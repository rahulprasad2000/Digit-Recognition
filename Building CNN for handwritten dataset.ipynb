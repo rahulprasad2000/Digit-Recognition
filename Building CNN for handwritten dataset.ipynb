{
 "cells": [
  {
   "cell_type": "markdown",
   "id": "6ab01849",
   "metadata": {},
   "source": [
    "# Loading our MNIST dataset"
   ]
  },
  {
   "cell_type": "code",
   "execution_count": 60,
   "id": "2719d046",
   "metadata": {},
   "outputs": [
    {
     "name": "stdout",
     "output_type": "stream",
     "text": [
      "(10000, 28, 28)\n"
     ]
    }
   ],
   "source": [
    "from keras.datasets import mnist\n",
    "(x_train,y_train),(x_test,y_test)=mnist.load_data()\n",
    "print(x_test.shape)"
   ]
  },
  {
   "cell_type": "markdown",
   "id": "8d2f2079",
   "metadata": {},
   "source": [
    "# Preparing dataset for training"
   ]
  },
  {
   "cell_type": "code",
   "execution_count": 61,
   "id": "4461b95b",
   "metadata": {},
   "outputs": [
    {
     "name": "stdout",
     "output_type": "stream",
     "text": [
      "x_train shape: (60000, 28, 28, 1)\n",
      "60000 train samples\n",
      "10000 test samples\n"
     ]
    }
   ],
   "source": [
    "img_rows=x_train[0].shape[0]\n",
    "img_cols=x_train[1].shape[0]\n",
    "\n",
    "x_train=x_train.reshape(x_train.shape[0],img_rows,img_cols,1)\n",
    "x_test=x_test.reshape(x_test.shape[0],img_rows,img_cols,1)\n",
    "\n",
    "input_shape=(img_rows,img_cols,1)\n",
    "\n",
    "x_train=x_train.astype('float32')\n",
    "x_test=x_test.astype('float32')\n",
    "\n",
    "x_train/=255\n",
    "x_test/=255\n",
    "\n",
    "print('x_train shape:', x_train.shape)\n",
    "print(x_train.shape[0], 'train samples')\n",
    "print(x_test.shape[0], 'test samples')"
   ]
  },
  {
   "cell_type": "markdown",
   "id": "1e97ecb4",
   "metadata": {},
   "source": [
    "# One hot encode our labels"
   ]
  },
  {
   "cell_type": "code",
   "execution_count": 62,
   "id": "cab39b90",
   "metadata": {},
   "outputs": [
    {
     "name": "stdout",
     "output_type": "stream",
     "text": [
      "Number of Classes: 10\n"
     ]
    }
   ],
   "source": [
    "from keras.utils import np_utils\n",
    "\n",
    "y_train=np_utils.to_categorical(y_train)\n",
    "y_test=np_utils.to_categorical(y_test)\n",
    "\n",
    "print('Number of Classes: '+ str(y_test.shape[1]))\n",
    "\n",
    "num_classes=y_test.shape[1]\n",
    "num_pixels=x_train.shape[1] * x_train.shape[2]"
   ]
  },
  {
   "cell_type": "markdown",
   "id": "4d90cca7",
   "metadata": {},
   "source": [
    "# creating our model"
   ]
  },
  {
   "cell_type": "code",
   "execution_count": 63,
   "id": "44d4c39f",
   "metadata": {},
   "outputs": [
    {
     "name": "stdout",
     "output_type": "stream",
     "text": [
      "Model: \"sequential_2\"\n",
      "_________________________________________________________________\n",
      "Layer (type)                 Output Shape              Param #   \n",
      "=================================================================\n",
      "conv2d_4 (Conv2D)            (None, 26, 26, 32)        320       \n",
      "_________________________________________________________________\n",
      "conv2d_5 (Conv2D)            (None, 24, 24, 64)        18496     \n",
      "_________________________________________________________________\n",
      "max_pooling2d_2 (MaxPooling2 (None, 12, 12, 64)        0         \n",
      "_________________________________________________________________\n",
      "flatten_2 (Flatten)          (None, 9216)              0         \n",
      "_________________________________________________________________\n",
      "dense_4 (Dense)              (None, 128)               1179776   \n",
      "_________________________________________________________________\n",
      "dropout_2 (Dropout)          (None, 128)               0         \n",
      "_________________________________________________________________\n",
      "dense_5 (Dense)              (None, 10)                1290      \n",
      "=================================================================\n",
      "Total params: 1,199,882\n",
      "Trainable params: 1,199,882\n",
      "Non-trainable params: 0\n",
      "_________________________________________________________________\n",
      "None\n"
     ]
    }
   ],
   "source": [
    "import tensorflow.keras as keras\n",
    "from keras.datasets import mnist\n",
    "from keras.models import Sequential\n",
    "from keras.layers import Dense,Dropout,Flatten\n",
    "from keras.layers import Conv2D,MaxPooling2D\n",
    "from keras import backend as K\n",
    "from tensorflow.keras import optimizers\n",
    "from keras.utils import np_utils\n",
    "\n",
    "#create model\n",
    "model=Sequential()\n",
    "\n",
    "model.add(Conv2D(32,(3,3),activation='relu',input_shape=input_shape))\n",
    "model.add(Conv2D(64,(3,3),activation='relu'))\n",
    "model.add(MaxPooling2D(pool_size=(2,2)))\n",
    "model.add(Flatten())\n",
    "model.add(Dense(128,activation='relu'))\n",
    "model.add(Dropout(0.5))\n",
    "model.add(Dense(num_classes,activation='softmax'))\n",
    "\n",
    "model.compile(loss='categorical_crossentropy',optimizer='adam',metrics=['accuracy'])\n",
    "\n",
    "print(model.summary())"
   ]
  },
  {
   "cell_type": "markdown",
   "id": "06178533",
   "metadata": {},
   "source": [
    "# Train our model"
   ]
  },
  {
   "cell_type": "code",
   "execution_count": 64,
   "id": "27724b18",
   "metadata": {},
   "outputs": [
    {
     "name": "stdout",
     "output_type": "stream",
     "text": [
      "Epoch 1/10\n",
      "1875/1875 [==============================] - 57s 30ms/step - loss: 0.3503 - accuracy: 0.8910 - val_loss: 0.0475 - val_accuracy: 0.9854\n",
      "Epoch 2/10\n",
      "1875/1875 [==============================] - 58s 31ms/step - loss: 0.0775 - accuracy: 0.9773 - val_loss: 0.0370 - val_accuracy: 0.9879\n",
      "Epoch 3/10\n",
      "1875/1875 [==============================] - 58s 31ms/step - loss: 0.0539 - accuracy: 0.9840 - val_loss: 0.0323 - val_accuracy: 0.9898\n",
      "Epoch 4/10\n",
      "1875/1875 [==============================] - 58s 31ms/step - loss: 0.0446 - accuracy: 0.9867 - val_loss: 0.0357 - val_accuracy: 0.9890\n",
      "Epoch 5/10\n",
      "1875/1875 [==============================] - 58s 31ms/step - loss: 0.0349 - accuracy: 0.9889 - val_loss: 0.0337 - val_accuracy: 0.9900\n",
      "Epoch 6/10\n",
      "1875/1875 [==============================] - 62s 33ms/step - loss: 0.0296 - accuracy: 0.9910 - val_loss: 0.0345 - val_accuracy: 0.9908\n",
      "Epoch 7/10\n",
      "1875/1875 [==============================] - 59s 32ms/step - loss: 0.0259 - accuracy: 0.9913 - val_loss: 0.0255 - val_accuracy: 0.9930\n",
      "Epoch 8/10\n",
      "1875/1875 [==============================] - 58s 31ms/step - loss: 0.0192 - accuracy: 0.9939 - val_loss: 0.0284 - val_accuracy: 0.9921\n",
      "Epoch 9/10\n",
      "1875/1875 [==============================] - 63s 33ms/step - loss: 0.0189 - accuracy: 0.9931 - val_loss: 0.0353 - val_accuracy: 0.9903\n",
      "Epoch 10/10\n",
      "1875/1875 [==============================] - 60s 32ms/step - loss: 0.0168 - accuracy: 0.9950 - val_loss: 0.0344 - val_accuracy: 0.9913\n",
      "test loss: 0.03438879922032356\n",
      "test accuracy: 0.9912999868392944\n"
     ]
    }
   ],
   "source": [
    "batch_size=32\n",
    "epochs=10\n",
    "history=model.fit(x_train,\n",
    "          y_train,\n",
    "          batch_size=batch_size,\n",
    "          epochs=epochs,\n",
    "          verbose=1,\n",
    "          validation_data=(x_test,y_test))\n",
    "\n",
    "score=model.evaluate(x_test, y_test,verbose=0)\n",
    "print('test loss:', score[0])\n",
    "print('test accuracy:', score[1])"
   ]
  },
  {
   "cell_type": "markdown",
   "id": "bcd2b9da",
   "metadata": {},
   "source": [
    "# plotting our loss and accracy chart"
   ]
  },
  {
   "cell_type": "code",
   "execution_count": 65,
   "id": "fb5a3c6d",
   "metadata": {},
   "outputs": [
    {
     "data": {
      "image/png": "[encoded data removed]",
      "text/plain": [
       "<Figure size 432x288 with 1 Axes>"
      ]
     },
     "metadata": {
      "needs_background": "light"
     },
     "output_type": "display_data"
    }
   ],
   "source": [
    "#plotting loss chart\n",
    "import matplotlib.pyplot as plt\n",
    "history_dict=history.history\n",
    "\n",
    "loss_values=history_dict['loss']\n",
    "val_loss_values=history_dict['val_loss']\n",
    "epochs=range(1,len(loss_values) + 1)\n",
    "\n",
    "line1=plt.plot(epochs,val_loss_values,label='Validation/Test Loss')\n",
    "line2=plt.plot(epochs,loss_values,label='Training Loss')\n",
    "plt.setp(line1,linewidth=2.0,marker='+',markersize=10.0)\n",
    "plt.setp(line2,linewidth=2.0,marker='4',markersize=10.0)\n",
    "plt.xlabel('Epochs')\n",
    "plt.ylabel('Loss')\n",
    "plt.grid(True)\n",
    "plt.legend()\n",
    "plt.show()"
   ]
  },
  {
   "cell_type": "code",
   "execution_count": 73,
   "id": "eabe900d",
   "metadata": {},
   "outputs": [
    {
     "data": {
      "image/png": "[encoded data removed]",
      "text/plain": [
       "<Figure size 432x288 with 1 Axes>"
      ]
     },
     "metadata": {
      "needs_background": "light"
     },
     "output_type": "display_data"
    }
   ],
   "source": [
    "#plotting our accuracy charts\n",
    "import matplotlib.pyplot as plt\n",
    "history_dict=history.history\n",
    "\n",
    "accuracy_values=history_dict['accuracy']\n",
    "val_acc_values=history_dict['val_accuracy']\n",
    "epochs=range(1,len(loss_values) + 1)\n",
    "\n",
    "line1=plt.plot(epochs,val_acc_values,label='Validation/Test Accuracy')\n",
    "line2=plt.plot(epochs,accuracy_values,label='Training Accuracy')\n",
    "plt.setp(line1,linewidth=2.0,marker='+',markersize=10.0)\n",
    "plt.setp(line2,linewidth=2.0,marker='4',markersize=10.0)\n",
    "plt.xlabel('Epochs')\n",
    "plt.ylabel('Accuracy')\n",
    "plt.grid(True)\n",
    "plt.legend()\n",
    "plt.show()"
   ]
  },
  {
   "cell_type": "code",
   "execution_count": 67,
   "id": "e01b7dd7",
   "metadata": {},
   "outputs": [
    {
     "name": "stdout",
     "output_type": "stream",
     "text": [
      "model saved\n"
     ]
    }
   ],
   "source": [
    "#saving our model\n",
    "model.save(\"mnist_simple_cnn_10_epochs.h5\")\n",
    "print('model saved')"
   ]
  },
  {
   "cell_type": "code",
   "execution_count": 68,
   "id": "c13600c0",
   "metadata": {},
   "outputs": [],
   "source": [
    "#loading our model\n",
    "from keras.models import load_model\n",
    "classifier=load_model(\"mnist_simple_cnn_10_epochs.h5\")"
   ]
  },
  {
   "cell_type": "code",
   "execution_count": 69,
   "id": "73c80348",
   "metadata": {},
   "outputs": [],
   "source": [
    "import cv2\n",
    "import numpy as np\n",
    "\n",
    "def draw_test(name, pred, input_im):\n",
    "    BLACK=[0,0,0]\n",
    "    expanded_image=cv2.copyMakeBorder(input_im,0,0,0,imageL.shape[0],cv2.BORDER_CONSTANT,value=BLACK)\n",
    "    expanded_image=cv2.cvtColor(expanded_image,cv2.COLOR_GRAY2BGR)\n",
    "    cv2.putText(expanded_image,str(pred),(152,70),cv2.FONT_HERSHEY_COMPLEX_SMALL,4,(0,255,0),2)\n",
    "    cv2.imshow(name,expanded_image)\n",
    "    \n",
    "for i in range(0,10):\n",
    "    rand=np.random.randint(0,len(x_test))\n",
    "    input_im=x_test[rand]\n",
    "    \n",
    "    imageL=cv2.resize(input_im, None, fx=4, fy=4, interpolation=cv2.INTER_CUBIC)\n",
    "    input_im=input_im.reshape(1,28,28,1)\n",
    "    \n",
    "    res=str(classifier.predict_classes(input_im, 1, verbose=0)[0])\n",
    "    \n",
    "    draw_test(\"Prediction\", res, imageL)\n",
    "    cv2.waitKey(0)\n",
    "\n",
    "cv2.destroyAllWindows()"
   ]
  },
  {
   "cell_type": "code",
   "execution_count": null,
   "id": "5d7ae3fe",
   "metadata": {},
   "outputs": [],
   "source": []
  }
 ],
 "metadata": {
  "kernelspec": {
   "display_name": "Python 3",
   "language": "python",
   "name": "python3"
  },
  "language_info": {
   "codemirror_mode": {
    "name": "ipython",
    "version": 3
   },
   "file_extension": ".py",
   "mimetype": "text/x-python",
   "name": "python",
   "nbconvert_exporter": "python",
   "pygments_lexer": "ipython3",
   "version": "3.9.5"
  }
 },
 "nbformat": 4,
 "nbformat_minor": 5
}
